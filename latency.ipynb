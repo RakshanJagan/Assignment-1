{
 "cells": [
  {
   "cell_type": "code",
   "execution_count": 3,
   "metadata": {},
   "outputs": [],
   "source": [
    "import numpy as np\n",
    "import tensorflow as tf\n",
    "from tensorflow.keras.models import load_model\n",
    "from tensorflow.keras.preprocessing.image import load_img, img_to_array\n",
    "\n"
   ]
  },
  {
   "cell_type": "code",
   "execution_count": 4,
   "metadata": {},
   "outputs": [
    {
     "name": "stderr",
     "output_type": "stream",
     "text": [
      "<>:2: SyntaxWarning: invalid escape sequence '\\M'\n",
      "<>:14: SyntaxWarning: invalid escape sequence '\\M'\n",
      "<>:2: SyntaxWarning: invalid escape sequence '\\M'\n",
      "<>:14: SyntaxWarning: invalid escape sequence '\\M'\n",
      "C:\\Users\\msrak\\AppData\\Local\\Temp\\ipykernel_3968\\4007109092.py:2: SyntaxWarning: invalid escape sequence '\\M'\n",
      "  MODEL_PATH = \"D:\\MCW\\Assignment-1\\DATA_AUG.keras\"\n",
      "C:\\Users\\msrak\\AppData\\Local\\Temp\\ipykernel_3968\\4007109092.py:14: SyntaxWarning: invalid escape sequence '\\M'\n",
      "  IMAGE_PATH = \"D:\\MCW\\Assignment-1\\pic1.jpeg\"\n"
     ]
    },
    {
     "name": "stdout",
     "output_type": "stream",
     "text": [
      "\u001b[1m1/1\u001b[0m \u001b[32m━━━━━━━━━━━━━━━━━━━━\u001b[0m\u001b[37m\u001b[0m \u001b[1m0s\u001b[0m 298ms/step\n",
      "Predicted class: airplane (0)\n",
      "Confidence: 1.00\n"
     ]
    }
   ],
   "source": [
    "# Path to your trained model\n",
    "MODEL_PATH = \"D:\\MCW\\Assignment-1\\DATA_AUG.keras\"\n",
    "\n",
    "# Load the pre-trained model\n",
    "model = load_model(MODEL_PATH)\n",
    "\n",
    "# CIFAR-10 class labels\n",
    "CIFAR10_CLASSES = [\n",
    "    \"airplane\", \"automobile\", \"bird\", \"cat\", \"deer\", \n",
    "    \"dog\", \"frog\", \"horse\", \"ship\", \"truck\"\n",
    "]\n",
    "\n",
    "# Path to the image you want to classify\n",
    "IMAGE_PATH = \"D:\\MCW\\Assignment-1\\pic1.jpeg\"\n",
    "\n",
    "# Load and preprocess the image\n",
    "def preprocess_image(image_path):\n",
    "    # CIFAR-10 images are 32x32 RGB\n",
    "    img = load_img(image_path, target_size=(32, 32))\n",
    "    img_array = img_to_array(img)\n",
    "    img_array = img_array.astype(\"float32\") / 255.0  # Normalize to [0, 1]\n",
    "    img_array = np.expand_dims(img_array, axis=0)     # Add batch dimension\n",
    "    return img_array\n",
    "\n",
    "# Preprocess the image\n",
    "input_image = preprocess_image(IMAGE_PATH)\n",
    "\n",
    "# Make a prediction\n",
    "predictions = model.predict(input_image)\n",
    "\n",
    "# Get the predicted class index and label\n",
    "predicted_class_index = np.argmax(predictions)\n",
    "predicted_class_label = CIFAR10_CLASSES[predicted_class_index]\n",
    "\n",
    "# Display the result\n",
    "print(f\"Predicted class: {predicted_class_label} ({predicted_class_index})\")\n",
    "print(f\"Confidence: {predictions[0][predicted_class_index]:.2f}\")\n"
   ]
  }
 ],
 "metadata": {
  "kernelspec": {
   "display_name": "Python 3",
   "language": "python",
   "name": "python3"
  },
  "language_info": {
   "codemirror_mode": {
    "name": "ipython",
    "version": 3
   },
   "file_extension": ".py",
   "mimetype": "text/x-python",
   "name": "python",
   "nbconvert_exporter": "python",
   "pygments_lexer": "ipython3",
   "version": "3.12.0"
  }
 },
 "nbformat": 4,
 "nbformat_minor": 2
}
